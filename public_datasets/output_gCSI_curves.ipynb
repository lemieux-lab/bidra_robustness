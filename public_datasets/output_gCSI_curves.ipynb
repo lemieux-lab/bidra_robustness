{
 "cells": [
  {
   "cell_type": "markdown",
   "metadata": {
    "toc": "true"
   },
   "source": [
    "# Table of Contents\n",
    " <p><div class=\"lev1 toc-item\"><a href=\"#Output-gCSI-Curves\" data-toc-modified-id=\"Output-gCSI-Curves-1\"><span class=\"toc-item-num\">1&nbsp;&nbsp;</span>Output gCSI Curves</a></div>"
   ]
  },
  {
   "cell_type": "markdown",
   "metadata": {},
   "source": [
    "# Output gCSI Curves\n",
    "\n",
    "This file preprocesses the gCSI drug screening data and outputs curves in a csv file. The formating is pretty simple, as the data is shared in a convenient format. "
   ]
  },
  {
   "cell_type": "markdown",
   "metadata": {},
   "source": [
    "We set up some parameters first:"
   ]
  },
  {
   "cell_type": "code",
   "execution_count": 52,
   "metadata": {},
   "outputs": [],
   "source": [
    "options(stringsAsFactors = FALSE)\n",
    "library(data.table)\n",
    "library(reshape2)\n",
    "\n",
    "\n",
    "\n",
    "\n",
    "\n",
    "nCurvesReturned <- \"all\" # This parameter will determine how many curves to sample and return (numeric), \n",
    "                         # or return all curves\n",
    "\n",
    "\n",
    "\n",
    "dataURL <- \"http://research-pub.gene.com/gCSI_GRvalues2019/gCSI_GRdata_v1.3.rds.tar.gz\"\n",
   ]
  },
  {
   "cell_type": "markdown",
   "metadata": {},
   "source": [
    "Download and untar the data, checking the output folder. "
   ]
  },
  {
   "cell_type": "code",
   "execution_count": 56,
   "metadata": {},
   "outputs": [],
   "source": [
    "              destfile = file.path(\".\", myInFile))\n",
    "    untar(myInFile, exdir=\"dwl\") \n",
    "}\n"
   ]
  },
  {
   "cell_type": "code",
   "execution_count": 57,
   "metadata": {},
   "outputs": [
    {
     "data": {
      "text/html": [
       "<style>\n",
       ".list-inline {list-style: none; margin:0; padding: 0}\n",
       ".list-inline>li {display: inline-block}\n",
       ".list-inline>li:not(:last-child)::after {content: \"\\00b7\"; padding: 0 .5ex}\n",
       "</style>\n",
       "<ol class=list-inline><li>'gCSI_GRmetrics_v1.3.rds'</li><li>'gCSI_GRvalues_v1.3.rds'</li></ol>\n"
      ],
      "text/latex": [
       "\\begin{enumerate*}\n",
       "\\item 'gCSI\\_GRmetrics\\_v1.3.rds'\n",
       "\\item 'gCSI\\_GRvalues\\_v1.3.rds'\n",
       "\\end{enumerate*}\n"
      ],
      "text/markdown": [
       "1. 'gCSI_GRmetrics_v1.3.rds'\n",
       "2. 'gCSI_GRvalues_v1.3.rds'\n",
       "\n",
       "\n"
      ],
      "text/plain": [
       "[1] \"gCSI_GRmetrics_v1.3.rds\" \"gCSI_GRvalues_v1.3.rds\" "
      ]
     },
     "metadata": {},
     "output_type": "display_data"
    }
   ],
   "source": [
    "list.files(\"dwl/OUTPUT\")"
   ]
  },
  {
   "cell_type": "markdown",
   "metadata": {},
   "source": [
    "Here we read in the data and transform the units so they match with other datasets. "
   ]
  },
  {
   "cell_type": "code",
   "execution_count": 40,
   "metadata": {},
   "outputs": [],
   "source": [
    "gCSI_GR_AOC <- readRDS(\"dwl/OUTPUT/gCSI_GRvalues_v1.3.rds\")\n",
    "gCSI_GR_AOC <- as.data.table(gCSI_GR_AOC)\n",
    "gCSI_GR_AOC[,cellid := CellLineName]\n",
    "gCSI_GR_AOC[,drugid := DrugName]\n",
    "\n",
    "gCSI_GR_AOC[,exp_id := paste(cellid, drugid, ExperimentNumber,sep=\"_\")]\n",
    "gCSI_GR_AOC[,Concentration := 10^(log10Concentration)/ 1.0e-6] #remove log10 & convert molar to uM\n",
    "gCSI_GR_AOC[,Viability := relative_cell_count * 100 ] #as percent\n",
    "\n",
    "\n",
    "exp_table <- gCSI_GR_AOC[,c(\"exp_id\", \"Concentration\", \"Viability\"), with=FALSE]"
   ]
  },
  {
   "cell_type": "code",
   "execution_count": 41,
   "metadata": {},
   "outputs": [
    {
     "data": {
      "text/html": [
       "<table>\n",
       "<caption>A data.table: 6 × 3</caption>\n",
       "<thead>\n",
       "\t<tr><th scope=col>exp_id</th><th scope=col>Concentration</th><th scope=col>Viability</th></tr>\n",
       "\t<tr><th scope=col>&lt;chr&gt;</th><th scope=col>&lt;dbl&gt;</th><th scope=col>&lt;dbl&gt;</th></tr>\n",
       "</thead>\n",
       "<tbody>\n",
       "\t<tr><td>REC-1_Vinblastine_2d     </td><td>4.572471e-05</td><td>100.98462</td></tr>\n",
       "\t<tr><td>RI-1_Vinblastine_2c      </td><td>1.111110e-02</td><td> 72.04995</td></tr>\n",
       "\t<tr><td>NCI-H2009_Vinblastine_2b </td><td>3.703702e-03</td><td> 87.15729</td></tr>\n",
       "\t<tr><td>MDA-MB-157_Vinblastine_2b</td><td>3.333335e-02</td><td> 20.07979</td></tr>\n",
       "\t<tr><td>UM-UC-3_Vinblastine_2b   </td><td>3.703702e-03</td><td> 98.66966</td></tr>\n",
       "\t<tr><td>Pfeiffer_Vinblastine_2c  </td><td>1.111110e-02</td><td> 48.39749</td></tr>\n",
       "</tbody>\n",
       "</table>\n"
      ],
      "text/latex": [
       "A data.table: 6 × 3\n",
       "\\begin{tabular}{lll}\n",
       " exp\\_id & Concentration & Viability\\\\\n",
       " <chr> & <dbl> & <dbl>\\\\\n",
       "\\hline\n",
       "\t REC-1\\_Vinblastine\\_2d      & 4.572471e-05 & 100.98462\\\\\n",
       "\t RI-1\\_Vinblastine\\_2c       & 1.111110e-02 &  72.04995\\\\\n",
       "\t NCI-H2009\\_Vinblastine\\_2b  & 3.703702e-03 &  87.15729\\\\\n",
       "\t MDA-MB-157\\_Vinblastine\\_2b & 3.333335e-02 &  20.07979\\\\\n",
       "\t UM-UC-3\\_Vinblastine\\_2b    & 3.703702e-03 &  98.66966\\\\\n",
       "\t Pfeiffer\\_Vinblastine\\_2c   & 1.111110e-02 &  48.39749\\\\\n",
       "\\end{tabular}\n"
      ],
      "text/markdown": [
       "\n",
       "A data.table: 6 × 3\n",
       "\n",
       "| exp_id &lt;chr&gt; | Concentration &lt;dbl&gt; | Viability &lt;dbl&gt; |\n",
       "|---|---|---|\n",
       "| REC-1_Vinblastine_2d      | 4.572471e-05 | 100.98462 |\n",
       "| RI-1_Vinblastine_2c       | 1.111110e-02 |  72.04995 |\n",
       "| NCI-H2009_Vinblastine_2b  | 3.703702e-03 |  87.15729 |\n",
       "| MDA-MB-157_Vinblastine_2b | 3.333335e-02 |  20.07979 |\n",
       "| UM-UC-3_Vinblastine_2b    | 3.703702e-03 |  98.66966 |\n",
       "| Pfeiffer_Vinblastine_2c   | 1.111110e-02 |  48.39749 |\n",
       "\n"
      ],
      "text/plain": [
       "  exp_id                    Concentration Viability\n",
       "1 REC-1_Vinblastine_2d      4.572471e-05  100.98462\n",
       "2 RI-1_Vinblastine_2c       1.111110e-02   72.04995\n",
       "3 NCI-H2009_Vinblastine_2b  3.703702e-03   87.15729\n",
       "4 MDA-MB-157_Vinblastine_2b 3.333335e-02   20.07979\n",
       "5 UM-UC-3_Vinblastine_2b    3.703702e-03   98.66966\n",
       "6 Pfeiffer_Vinblastine_2c   1.111110e-02   48.39749"
      ]
     },
     "metadata": {},
     "output_type": "display_data"
    }
   ],
   "source": [
    "head(exp_table)"
   ]
  },
  {
   "cell_type": "markdown",
   "metadata": {},
   "source": [
    "We also will output an info table to annotate each experiment with the cellid and drugid."
   ]
  },
  {
   "cell_type": "code",
   "execution_count": 42,
   "metadata": {},
   "outputs": [],
   "source": [
    "gCSI_GR_AOC[,expid := exp_id]\n",
    "gCSI_GR_AOC[,min_conc := 10^min(log10Concentration)/ 1.0e-6, expid]\n",
    "gCSI_GR_AOC[,max_conc := 10^max(log10Concentration)/ 1.0e-6, expid]\n",
    "\n",
    "sensitivityInfo_2018 <- as.data.frame(gCSI_GR_AOC[,c(\"expid\", \"cellid\",\"drugid\",\"min_conc\", \"max_conc\",\"ExperimentNumber\",\"TrtDuration\",\"doublingtime\"), with=FALSE])\n",
    "sensitivityInfo_2018 <- unique(sensitivityInfo_2018)\n",
    "rownames(sensitivityInfo_2018) <- sensitivityInfo_2018$expid"
   ]
  },
  {
   "cell_type": "code",
   "execution_count": 43,
   "metadata": {
    "scrolled": true
   },
   "outputs": [
    {
     "data": {
      "text/html": [
       "<table>\n",
       "<caption>A data.frame: 6 × 8</caption>\n",
       "<thead>\n",
       "\t<tr><th></th><th scope=col>expid</th><th scope=col>cellid</th><th scope=col>drugid</th><th scope=col>min_conc</th><th scope=col>max_conc</th><th scope=col>ExperimentNumber</th><th scope=col>TrtDuration</th><th scope=col>doublingtime</th></tr>\n",
       "\t<tr><th></th><th scope=col>&lt;chr&gt;</th><th scope=col>&lt;chr&gt;</th><th scope=col>&lt;chr&gt;</th><th scope=col>&lt;dbl&gt;</th><th scope=col>&lt;dbl&gt;</th><th scope=col>&lt;chr&gt;</th><th scope=col>&lt;dbl&gt;</th><th scope=col>&lt;dbl&gt;</th></tr>\n",
       "</thead>\n",
       "<tbody>\n",
       "\t<tr><th scope=row>REC-1_Vinblastine_2d</th><td>REC-1_Vinblastine_2d     </td><td>REC-1     </td><td>Vinblastine</td><td>1.524158e-05</td><td>0.1</td><td>2d</td><td>72</td><td>32</td></tr>\n",
       "\t<tr><th scope=row>RI-1_Vinblastine_2c</th><td>RI-1_Vinblastine_2c      </td><td>RI-1      </td><td>Vinblastine</td><td>1.524158e-05</td><td>0.1</td><td>2c</td><td>72</td><td>36</td></tr>\n",
       "\t<tr><th scope=row>NCI-H2009_Vinblastine_2b</th><td>NCI-H2009_Vinblastine_2b </td><td>NCI-H2009 </td><td>Vinblastine</td><td>1.524158e-05</td><td>0.1</td><td>2b</td><td>72</td><td>49</td></tr>\n",
       "\t<tr><th scope=row>MDA-MB-157_Vinblastine_2b</th><td>MDA-MB-157_Vinblastine_2b</td><td>MDA-MB-157</td><td>Vinblastine</td><td>1.524158e-05</td><td>0.1</td><td>2b</td><td>72</td><td>67</td></tr>\n",
       "\t<tr><th scope=row>UM-UC-3_Vinblastine_2b</th><td>UM-UC-3_Vinblastine_2b   </td><td>UM-UC-3   </td><td>Vinblastine</td><td>1.524158e-05</td><td>0.1</td><td>2b</td><td>72</td><td>30</td></tr>\n",
       "\t<tr><th scope=row>Pfeiffer_Vinblastine_2c</th><td>Pfeiffer_Vinblastine_2c  </td><td>Pfeiffer  </td><td>Vinblastine</td><td>1.524158e-05</td><td>0.1</td><td>2c</td><td>72</td><td>NA</td></tr>\n",
       "</tbody>\n",
       "</table>\n"
      ],
      "text/latex": [
       "A data.frame: 6 × 8\n",
       "\\begin{tabular}{r|llllllll}\n",
       "  & expid & cellid & drugid & min\\_conc & max\\_conc & ExperimentNumber & TrtDuration & doublingtime\\\\\n",
       "  & <chr> & <chr> & <chr> & <dbl> & <dbl> & <chr> & <dbl> & <dbl>\\\\\n",
       "\\hline\n",
       "\tREC-1\\_Vinblastine\\_2d & REC-1\\_Vinblastine\\_2d      & REC-1      & Vinblastine & 1.524158e-05 & 0.1 & 2d & 72 & 32\\\\\n",
       "\tRI-1\\_Vinblastine\\_2c & RI-1\\_Vinblastine\\_2c       & RI-1       & Vinblastine & 1.524158e-05 & 0.1 & 2c & 72 & 36\\\\\n",
       "\tNCI-H2009\\_Vinblastine\\_2b & NCI-H2009\\_Vinblastine\\_2b  & NCI-H2009  & Vinblastine & 1.524158e-05 & 0.1 & 2b & 72 & 49\\\\\n",
       "\tMDA-MB-157\\_Vinblastine\\_2b & MDA-MB-157\\_Vinblastine\\_2b & MDA-MB-157 & Vinblastine & 1.524158e-05 & 0.1 & 2b & 72 & 67\\\\\n",
       "\tUM-UC-3\\_Vinblastine\\_2b & UM-UC-3\\_Vinblastine\\_2b    & UM-UC-3    & Vinblastine & 1.524158e-05 & 0.1 & 2b & 72 & 30\\\\\n",
       "\tPfeiffer\\_Vinblastine\\_2c & Pfeiffer\\_Vinblastine\\_2c   & Pfeiffer   & Vinblastine & 1.524158e-05 & 0.1 & 2c & 72 & NA\\\\\n",
       "\\end{tabular}\n"
      ],
      "text/markdown": [
       "\n",
       "A data.frame: 6 × 8\n",
       "\n",
       "| <!--/--> | expid &lt;chr&gt; | cellid &lt;chr&gt; | drugid &lt;chr&gt; | min_conc &lt;dbl&gt; | max_conc &lt;dbl&gt; | ExperimentNumber &lt;chr&gt; | TrtDuration &lt;dbl&gt; | doublingtime &lt;dbl&gt; |\n",
       "|---|---|---|---|---|---|---|---|---|\n",
       "| REC-1_Vinblastine_2d | REC-1_Vinblastine_2d      | REC-1      | Vinblastine | 1.524158e-05 | 0.1 | 2d | 72 | 32 |\n",
       "| RI-1_Vinblastine_2c | RI-1_Vinblastine_2c       | RI-1       | Vinblastine | 1.524158e-05 | 0.1 | 2c | 72 | 36 |\n",
       "| NCI-H2009_Vinblastine_2b | NCI-H2009_Vinblastine_2b  | NCI-H2009  | Vinblastine | 1.524158e-05 | 0.1 | 2b | 72 | 49 |\n",
       "| MDA-MB-157_Vinblastine_2b | MDA-MB-157_Vinblastine_2b | MDA-MB-157 | Vinblastine | 1.524158e-05 | 0.1 | 2b | 72 | 67 |\n",
       "| UM-UC-3_Vinblastine_2b | UM-UC-3_Vinblastine_2b    | UM-UC-3    | Vinblastine | 1.524158e-05 | 0.1 | 2b | 72 | 30 |\n",
       "| Pfeiffer_Vinblastine_2c | Pfeiffer_Vinblastine_2c   | Pfeiffer   | Vinblastine | 1.524158e-05 | 0.1 | 2c | 72 | NA |\n",
       "\n"
      ],
      "text/plain": [
       "                          expid                     cellid     drugid     \n",
       "REC-1_Vinblastine_2d      REC-1_Vinblastine_2d      REC-1      Vinblastine\n",
       "RI-1_Vinblastine_2c       RI-1_Vinblastine_2c       RI-1       Vinblastine\n",
       "NCI-H2009_Vinblastine_2b  NCI-H2009_Vinblastine_2b  NCI-H2009  Vinblastine\n",
       "MDA-MB-157_Vinblastine_2b MDA-MB-157_Vinblastine_2b MDA-MB-157 Vinblastine\n",
       "UM-UC-3_Vinblastine_2b    UM-UC-3_Vinblastine_2b    UM-UC-3    Vinblastine\n",
       "Pfeiffer_Vinblastine_2c   Pfeiffer_Vinblastine_2c   Pfeiffer   Vinblastine\n",
       "                          min_conc     max_conc ExperimentNumber TrtDuration\n",
       "REC-1_Vinblastine_2d      1.524158e-05 0.1      2d               72         \n",
       "RI-1_Vinblastine_2c       1.524158e-05 0.1      2c               72         \n",
       "NCI-H2009_Vinblastine_2b  1.524158e-05 0.1      2b               72         \n",
       "MDA-MB-157_Vinblastine_2b 1.524158e-05 0.1      2b               72         \n",
       "UM-UC-3_Vinblastine_2b    1.524158e-05 0.1      2b               72         \n",
       "Pfeiffer_Vinblastine_2c   1.524158e-05 0.1      2c               72         \n",
       "                          doublingtime\n",
       "REC-1_Vinblastine_2d      32          \n",
       "RI-1_Vinblastine_2c       36          \n",
       "NCI-H2009_Vinblastine_2b  49          \n",
       "MDA-MB-157_Vinblastine_2b 67          \n",
       "UM-UC-3_Vinblastine_2b    30          \n",
       "Pfeiffer_Vinblastine_2c   NA          "
      ]
     },
     "metadata": {},
     "output_type": "display_data"
    }
   ],
   "source": [
    "head(sensitivityInfo_2018)"
   ]
  },
  {
   "cell_type": "code",
   "execution_count": 44,
   "metadata": {},
   "outputs": [],
   "source": [
    "## Defining a function used below\n",
    "\n",
    "\n",
    "matchToIDTable <- function(ids,tbl, column, returnColumn=\"unique.cellid\") {\n",
    "  sapply(ids, function(x) {\n",
    "                          myx <- grep(paste0(\"((///)|^)\",Hmisc::escapeRegex(trimws(x)),\"((///)|$)\"), tbl[,column])\n",
    "                          if(length(myx) > 1){\n",
    "                            stop(\"Something went wrong in curating ids, we have multiple matches\")\n",
    "                          }\n",
    "        if(length(myx) == 0){return(NA_character_)}\n",
    "                          return(tbl[myx, returnColumn])\n",
    "                        })\n",
    "}\n"
   ]
  },
  {
   "cell_type": "code",
   "execution_count": 45,
   "metadata": {},
   "outputs": [],
   "source": [
    "cellAnnotFile <- \"./cellAnnotations/cell_annotation_all.csv\"\n",
    "\n",
    "if(!file.exists(cellAnnotFile)){\n",
    "    dir.create(\"./cellAnnotations\")\n",
    "    cellUrl <- \"https://github.com/BHKLAB-Pachyderm/Annotations/raw/master/cell_annotation_all.csv\"\n",
    "    download.file(cellUrl, destfile = cellAnnotFile)\n",
    "}"
   ]
  },
  {
   "cell_type": "code",
   "execution_count": 46,
   "metadata": {},
   "outputs": [],
   "source": [
    "drugAnnotFile <- \"./drugAnnotations/drugs_with_ids.csv\"\n",
    "\n",
    "if(!file.exists(drugAnnotFile)){\n",
    "    dir.create(\"./drugAnnotations\")\n",
    "    drugUrl <- \"https://github.com/BHKLAB-Pachyderm/Annotations/raw/master/drugs_with_ids.csv\"\n",
    "    download.file(drugUrl, destfile = drugAnnotFile)\n",
    "}"
   ]
  },
  {
   "cell_type": "code",
   "execution_count": 47,
   "metadata": {},
   "outputs": [],
   "source": [
    "curationCell <- read.csv(cellAnnotFile)\n",
    "curationDrug <- read.csv(drugAnnotFile)"
   ]
  },
  {
   "cell_type": "code",
   "execution_count": 48,
   "metadata": {},
   "outputs": [
    {
     "name": "stderr",
     "output_type": "stream",
     "text": [
      "mapping sensitivity cells\n",
      "\n",
      "mapping sensitivity drugs\n",
      "\n"
     ]
    }
   ],
   "source": [
    "message(\"mapping sensitivity cells\")\n",
    "mapInfo <- data.frame(gCSI.cellid = unique(sensitivityInfo_2018$cellid), \n",
    "                      unique.cellid = matchToIDTable(unique(sensitivityInfo_2018$cellid), curationCell, \"gCSI.cellid\", \"unique.cellid\"))\n",
    "stopifnot(!anyNA(mapInfo[,2]))\n",
    "sensitivityInfo_2018$cellid <- mapInfo[match(sensitivityInfo_2018$cellid, mapInfo[,1]),2]\n",
    "\n",
    "message(\"mapping sensitivity drugs\")\n",
    "\n",
    "mapInfo <- data.frame(gCSI.drugid = unique(sensitivityInfo_2018$drugid), \n",
    "                      unique.drugid = matchToIDTable(unique(sensitivityInfo_2018$drugid), curationDrug, \"gCSI.drugid\", \"unique.drugid\"))\n",
    "stopifnot(!anyNA(mapInfo[,2]))\n",
    "sensitivityInfo_2018$drugid <- mapInfo[match(sensitivityInfo_2018$drugid, mapInfo[,1]),2]\n"
   ]
  },
  {
   "cell_type": "code",
   "execution_count": 49,
   "metadata": {},
   "outputs": [
    {
     "data": {
      "text/html": [
       "<table>\n",
       "<caption>A data.frame: 6 × 8</caption>\n",
       "<thead>\n",
       "\t<tr><th></th><th scope=col>expid</th><th scope=col>cellid</th><th scope=col>drugid</th><th scope=col>min_conc</th><th scope=col>max_conc</th><th scope=col>ExperimentNumber</th><th scope=col>TrtDuration</th><th scope=col>doublingtime</th></tr>\n",
       "\t<tr><th></th><th scope=col>&lt;chr&gt;</th><th scope=col>&lt;chr&gt;</th><th scope=col>&lt;chr&gt;</th><th scope=col>&lt;dbl&gt;</th><th scope=col>&lt;dbl&gt;</th><th scope=col>&lt;chr&gt;</th><th scope=col>&lt;dbl&gt;</th><th scope=col>&lt;dbl&gt;</th></tr>\n",
       "</thead>\n",
       "<tbody>\n",
       "\t<tr><th scope=row>REC-1_Vinblastine_2d</th><td>REC-1_Vinblastine_2d     </td><td>REC-1     </td><td>Vincaleukoblastine</td><td>1.524158e-05</td><td>0.1</td><td>2d</td><td>72</td><td>32</td></tr>\n",
       "\t<tr><th scope=row>RI-1_Vinblastine_2c</th><td>RI-1_Vinblastine_2c      </td><td>Ri-1      </td><td>Vincaleukoblastine</td><td>1.524158e-05</td><td>0.1</td><td>2c</td><td>72</td><td>36</td></tr>\n",
       "\t<tr><th scope=row>NCI-H2009_Vinblastine_2b</th><td>NCI-H2009_Vinblastine_2b </td><td>NCI-H2009 </td><td>Vincaleukoblastine</td><td>1.524158e-05</td><td>0.1</td><td>2b</td><td>72</td><td>49</td></tr>\n",
       "\t<tr><th scope=row>MDA-MB-157_Vinblastine_2b</th><td>MDA-MB-157_Vinblastine_2b</td><td>MDA-MB-157</td><td>Vincaleukoblastine</td><td>1.524158e-05</td><td>0.1</td><td>2b</td><td>72</td><td>67</td></tr>\n",
       "\t<tr><th scope=row>UM-UC-3_Vinblastine_2b</th><td>UM-UC-3_Vinblastine_2b   </td><td>UM-UC-3   </td><td>Vincaleukoblastine</td><td>1.524158e-05</td><td>0.1</td><td>2b</td><td>72</td><td>30</td></tr>\n",
       "\t<tr><th scope=row>Pfeiffer_Vinblastine_2c</th><td>Pfeiffer_Vinblastine_2c  </td><td>Pfeiffer  </td><td>Vincaleukoblastine</td><td>1.524158e-05</td><td>0.1</td><td>2c</td><td>72</td><td>NA</td></tr>\n",
       "</tbody>\n",
       "</table>\n"
      ],
      "text/latex": [
       "A data.frame: 6 × 8\n",
       "\\begin{tabular}{r|llllllll}\n",
       "  & expid & cellid & drugid & min\\_conc & max\\_conc & ExperimentNumber & TrtDuration & doublingtime\\\\\n",
       "  & <chr> & <chr> & <chr> & <dbl> & <dbl> & <chr> & <dbl> & <dbl>\\\\\n",
       "\\hline\n",
       "\tREC-1\\_Vinblastine\\_2d & REC-1\\_Vinblastine\\_2d      & REC-1      & Vincaleukoblastine & 1.524158e-05 & 0.1 & 2d & 72 & 32\\\\\n",
       "\tRI-1\\_Vinblastine\\_2c & RI-1\\_Vinblastine\\_2c       & Ri-1       & Vincaleukoblastine & 1.524158e-05 & 0.1 & 2c & 72 & 36\\\\\n",
       "\tNCI-H2009\\_Vinblastine\\_2b & NCI-H2009\\_Vinblastine\\_2b  & NCI-H2009  & Vincaleukoblastine & 1.524158e-05 & 0.1 & 2b & 72 & 49\\\\\n",
       "\tMDA-MB-157\\_Vinblastine\\_2b & MDA-MB-157\\_Vinblastine\\_2b & MDA-MB-157 & Vincaleukoblastine & 1.524158e-05 & 0.1 & 2b & 72 & 67\\\\\n",
       "\tUM-UC-3\\_Vinblastine\\_2b & UM-UC-3\\_Vinblastine\\_2b    & UM-UC-3    & Vincaleukoblastine & 1.524158e-05 & 0.1 & 2b & 72 & 30\\\\\n",
       "\tPfeiffer\\_Vinblastine\\_2c & Pfeiffer\\_Vinblastine\\_2c   & Pfeiffer   & Vincaleukoblastine & 1.524158e-05 & 0.1 & 2c & 72 & NA\\\\\n",
       "\\end{tabular}\n"
      ],
      "text/markdown": [
       "\n",
       "A data.frame: 6 × 8\n",
       "\n",
       "| <!--/--> | expid &lt;chr&gt; | cellid &lt;chr&gt; | drugid &lt;chr&gt; | min_conc &lt;dbl&gt; | max_conc &lt;dbl&gt; | ExperimentNumber &lt;chr&gt; | TrtDuration &lt;dbl&gt; | doublingtime &lt;dbl&gt; |\n",
       "|---|---|---|---|---|---|---|---|---|\n",
       "| REC-1_Vinblastine_2d | REC-1_Vinblastine_2d      | REC-1      | Vincaleukoblastine | 1.524158e-05 | 0.1 | 2d | 72 | 32 |\n",
       "| RI-1_Vinblastine_2c | RI-1_Vinblastine_2c       | Ri-1       | Vincaleukoblastine | 1.524158e-05 | 0.1 | 2c | 72 | 36 |\n",
       "| NCI-H2009_Vinblastine_2b | NCI-H2009_Vinblastine_2b  | NCI-H2009  | Vincaleukoblastine | 1.524158e-05 | 0.1 | 2b | 72 | 49 |\n",
       "| MDA-MB-157_Vinblastine_2b | MDA-MB-157_Vinblastine_2b | MDA-MB-157 | Vincaleukoblastine | 1.524158e-05 | 0.1 | 2b | 72 | 67 |\n",
       "| UM-UC-3_Vinblastine_2b | UM-UC-3_Vinblastine_2b    | UM-UC-3    | Vincaleukoblastine | 1.524158e-05 | 0.1 | 2b | 72 | 30 |\n",
       "| Pfeiffer_Vinblastine_2c | Pfeiffer_Vinblastine_2c   | Pfeiffer   | Vincaleukoblastine | 1.524158e-05 | 0.1 | 2c | 72 | NA |\n",
       "\n"
      ],
      "text/plain": [
       "                          expid                     cellid    \n",
       "REC-1_Vinblastine_2d      REC-1_Vinblastine_2d      REC-1     \n",
       "RI-1_Vinblastine_2c       RI-1_Vinblastine_2c       Ri-1      \n",
       "NCI-H2009_Vinblastine_2b  NCI-H2009_Vinblastine_2b  NCI-H2009 \n",
       "MDA-MB-157_Vinblastine_2b MDA-MB-157_Vinblastine_2b MDA-MB-157\n",
       "UM-UC-3_Vinblastine_2b    UM-UC-3_Vinblastine_2b    UM-UC-3   \n",
       "Pfeiffer_Vinblastine_2c   Pfeiffer_Vinblastine_2c   Pfeiffer  \n",
       "                          drugid             min_conc     max_conc\n",
       "REC-1_Vinblastine_2d      Vincaleukoblastine 1.524158e-05 0.1     \n",
       "RI-1_Vinblastine_2c       Vincaleukoblastine 1.524158e-05 0.1     \n",
       "NCI-H2009_Vinblastine_2b  Vincaleukoblastine 1.524158e-05 0.1     \n",
       "MDA-MB-157_Vinblastine_2b Vincaleukoblastine 1.524158e-05 0.1     \n",
       "UM-UC-3_Vinblastine_2b    Vincaleukoblastine 1.524158e-05 0.1     \n",
       "Pfeiffer_Vinblastine_2c   Vincaleukoblastine 1.524158e-05 0.1     \n",
       "                          ExperimentNumber TrtDuration doublingtime\n",
       "REC-1_Vinblastine_2d      2d               72          32          \n",
       "RI-1_Vinblastine_2c       2c               72          36          \n",
       "NCI-H2009_Vinblastine_2b  2b               72          49          \n",
       "MDA-MB-157_Vinblastine_2b 2b               72          67          \n",
       "UM-UC-3_Vinblastine_2b    2b               72          30          \n",
       "Pfeiffer_Vinblastine_2c   2c               72          NA          "
      ]
     },
     "metadata": {},
     "output_type": "display_data"
    }
   ],
   "source": [
    "head(sensitivityInfo_2018)"
   ]
  },
  {
   "cell_type": "code",
   "execution_count": 50,
   "metadata": {},
   "outputs": [],
   "source": [
    "\n",
    "if(nCurvesReturned != \"all\"){\n",
    "    sample_expid <- sample(exp_table[, unique(exp_id)], nCurvesReturned)\n",
    "    exp_table_selected <- exp_table[exp_id %in% sample_expid]\n",
    "} else {exp_table_selected <- exp_table}                           \n"
   ]
  },
  {
   "cell_type": "code",
   "execution_count": 38,
   "metadata": {},
   "outputs": [],
   "source": [
    "if(!file.exists(\"curves\")) dir.create(\"curves\")                         \n",
    "\n",
    "fwrite(exp_table_selected, file=paste0(\"curves/gCSI\", \"_selected_curves_\", nCurvesReturned, \".csv\"))\n",
    "\n"
   ]
  },
  {
   "cell_type": "code",
   "execution_count": 51,
   "metadata": {},
   "outputs": [],
   "source": [
    "if(!file.exists(\"curves_info\")) dir.create(\"curves_info\")                         \n",
    "\n",
    "fwrite(sensitivityInfo_2018, file=paste0(\"curves_info/gCSI\", \"_info_\", nCurvesReturned, \".csv\"))"
   ]
  },
  {
   "cell_type": "code",
   "execution_count": null,
   "metadata": {},
   "outputs": [],
   "source": []
  }
 ],
 "metadata": {
  "kernelspec": {
   "display_name": "R",
   "language": "R",
   "name": "ir"
  },
  "language_info": {
   "codemirror_mode": "r",
   "file_extension": ".r",
   "mimetype": "text/x-r-source",
   "name": "R",
   "pygments_lexer": "r",
   "version": "3.6.1"
  },
  "latex_envs": {
   "bibliofile": "biblio.bib",
   "cite_by": "apalike",
   "current_citInitial": 1,
   "eqLabelWithNumbers": true,
   "eqNumInitial": 0
  },
  "nav_menu": {},
  "toc": {
   "navigate_menu": true,
   "number_sections": true,
   "sideBar": true,
   "threshold": 6,
   "toc_cell": true,
   "toc_section_display": "block",
   "toc_window_display": false
  }
 },
 "nbformat": 4,
 "nbformat_minor": 2
}
